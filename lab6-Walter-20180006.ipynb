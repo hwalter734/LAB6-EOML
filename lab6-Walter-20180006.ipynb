{
 "metadata": {
  "language_info": {
   "codemirror_mode": {
    "name": "ipython",
    "version": 3
   },
   "file_extension": ".py",
   "mimetype": "text/x-python",
   "name": "python",
   "nbconvert_exporter": "python",
   "pygments_lexer": "ipython3",
   "version": "3.8.6"
  },
  "orig_nbformat": 2,
  "kernelspec": {
   "name": "python386jvsc74a57bd06145318e8d926848cd2a82eeb48c67664eb1047e6988967b050379ea1e2d9e64",
   "display_name": "Python 3.8.6 64-bit"
  }
 },
 "nbformat": 4,
 "nbformat_minor": 2,
 "cells": [
  {
   "source": [
    "# Cargamos archivos y librerías"
   ],
   "cell_type": "markdown",
   "metadata": {}
  },
  {
   "cell_type": "code",
   "execution_count": 30,
   "metadata": {},
   "outputs": [],
   "source": [
    "import pandas as pd \n",
    "import numpy as np\n",
    "import matplotlib.pyplot as plt\n",
    "from sklearn.preprocessing import StandardScaler\n",
    "from sklearn.model_selection import train_test_split\n",
    "pd.set_option('display.float_format', '{:.6f}'.format)"
   ]
  },
  {
   "cell_type": "code",
   "execution_count": 60,
   "metadata": {},
   "outputs": [
    {
     "output_type": "execute_result",
     "data": {
      "text/plain": [
       "   ones  Label   Alcohol  Malic acid      Ash  Alcalinity of ash  Magnesium  \\\n",
       "0     1      1 14.230000    1.710000 2.430000          15.600000        127   \n",
       "1     1      1 13.200000    1.780000 2.140000          11.200000        100   \n",
       "2     1      1 13.160000    2.360000 2.670000          18.600000        101   \n",
       "3     1      1 14.370000    1.950000 2.500000          16.800000        113   \n",
       "4     1      1 13.240000    2.590000 2.870000          21.000000        118   \n",
       "\n",
       "   Total phenols  Flavanoids  Nonflavanoid phenols  Proanthocyanins  \\\n",
       "0       2.800000    3.060000              0.280000         2.290000   \n",
       "1       2.650000    2.760000              0.260000         1.280000   \n",
       "2       2.800000    3.240000              0.300000         2.810000   \n",
       "3       3.850000    3.490000              0.240000         2.180000   \n",
       "4       2.800000    2.690000              0.390000         1.820000   \n",
       "\n",
       "   Color intensity      Hue  OD280/OD315 of diluted wines  Proline  \n",
       "0         5.640000 1.040000                      3.920000     1065  \n",
       "1         4.380000 1.050000                      3.400000     1050  \n",
       "2         5.680000 1.030000                      3.170000     1185  \n",
       "3         7.800000 0.860000                      3.450000     1480  \n",
       "4         4.320000 1.040000                      2.930000      735  "
      ],
      "text/html": "<div>\n<style scoped>\n    .dataframe tbody tr th:only-of-type {\n        vertical-align: middle;\n    }\n\n    .dataframe tbody tr th {\n        vertical-align: top;\n    }\n\n    .dataframe thead th {\n        text-align: right;\n    }\n</style>\n<table border=\"1\" class=\"dataframe\">\n  <thead>\n    <tr style=\"text-align: right;\">\n      <th></th>\n      <th>ones</th>\n      <th>Label</th>\n      <th>Alcohol</th>\n      <th>Malic acid</th>\n      <th>Ash</th>\n      <th>Alcalinity of ash</th>\n      <th>Magnesium</th>\n      <th>Total phenols</th>\n      <th>Flavanoids</th>\n      <th>Nonflavanoid phenols</th>\n      <th>Proanthocyanins</th>\n      <th>Color intensity</th>\n      <th>Hue</th>\n      <th>OD280/OD315 of diluted wines</th>\n      <th>Proline</th>\n    </tr>\n  </thead>\n  <tbody>\n    <tr>\n      <th>0</th>\n      <td>1</td>\n      <td>1</td>\n      <td>14.230000</td>\n      <td>1.710000</td>\n      <td>2.430000</td>\n      <td>15.600000</td>\n      <td>127</td>\n      <td>2.800000</td>\n      <td>3.060000</td>\n      <td>0.280000</td>\n      <td>2.290000</td>\n      <td>5.640000</td>\n      <td>1.040000</td>\n      <td>3.920000</td>\n      <td>1065</td>\n    </tr>\n    <tr>\n      <th>1</th>\n      <td>1</td>\n      <td>1</td>\n      <td>13.200000</td>\n      <td>1.780000</td>\n      <td>2.140000</td>\n      <td>11.200000</td>\n      <td>100</td>\n      <td>2.650000</td>\n      <td>2.760000</td>\n      <td>0.260000</td>\n      <td>1.280000</td>\n      <td>4.380000</td>\n      <td>1.050000</td>\n      <td>3.400000</td>\n      <td>1050</td>\n    </tr>\n    <tr>\n      <th>2</th>\n      <td>1</td>\n      <td>1</td>\n      <td>13.160000</td>\n      <td>2.360000</td>\n      <td>2.670000</td>\n      <td>18.600000</td>\n      <td>101</td>\n      <td>2.800000</td>\n      <td>3.240000</td>\n      <td>0.300000</td>\n      <td>2.810000</td>\n      <td>5.680000</td>\n      <td>1.030000</td>\n      <td>3.170000</td>\n      <td>1185</td>\n    </tr>\n    <tr>\n      <th>3</th>\n      <td>1</td>\n      <td>1</td>\n      <td>14.370000</td>\n      <td>1.950000</td>\n      <td>2.500000</td>\n      <td>16.800000</td>\n      <td>113</td>\n      <td>3.850000</td>\n      <td>3.490000</td>\n      <td>0.240000</td>\n      <td>2.180000</td>\n      <td>7.800000</td>\n      <td>0.860000</td>\n      <td>3.450000</td>\n      <td>1480</td>\n    </tr>\n    <tr>\n      <th>4</th>\n      <td>1</td>\n      <td>1</td>\n      <td>13.240000</td>\n      <td>2.590000</td>\n      <td>2.870000</td>\n      <td>21.000000</td>\n      <td>118</td>\n      <td>2.800000</td>\n      <td>2.690000</td>\n      <td>0.390000</td>\n      <td>1.820000</td>\n      <td>4.320000</td>\n      <td>1.040000</td>\n      <td>2.930000</td>\n      <td>735</td>\n    </tr>\n  </tbody>\n</table>\n</div>"
     },
     "metadata": {},
     "execution_count": 60
    }
   ],
   "source": [
    "df = pd.read_csv('wine.csv')\n",
    "df.insert(loc=1, column='ones', value=1) \n",
    "df = df.iloc[:,1:]\n",
    "df.head()"
   ]
  },
  {
   "cell_type": "code",
   "execution_count": 61,
   "metadata": {},
   "outputs": [
    {
     "output_type": "execute_result",
     "data": {
      "text/plain": [
       "(178, 15)"
      ]
     },
     "metadata": {},
     "execution_count": 61
    }
   ],
   "source": [
    "df.shape"
   ]
  },
  {
   "source": [
    "# Partir el Array\n",
    "Partimos el array en un training, validating (CV), y testing set."
   ],
   "cell_type": "markdown",
   "metadata": {}
  },
  {
   "cell_type": "code",
   "execution_count": 62,
   "metadata": {},
   "outputs": [],
   "source": [
    "ycolumn = df.pop('Label')\n",
    "xcolumns = df"
   ]
  },
  {
   "cell_type": "code",
   "execution_count": 65,
   "metadata": {},
   "outputs": [],
   "source": [
    "ycolumn_mod = ycolumn.replace({2:0, 3:0})"
   ]
  },
  {
   "cell_type": "code",
   "execution_count": null,
   "metadata": {},
   "outputs": [],
   "source": [
    "ycolumn_mod = ycolumn.replace({1:0, 2:1, 3:0})"
   ]
  },
  {
   "cell_type": "code",
   "execution_count": null,
   "metadata": {},
   "outputs": [],
   "source": [
    "ycolumn_mod = ycolumn.replace({1:0, 2:0, 3:1})"
   ]
  },
  {
   "source": [
    "# Standarize X Columns"
   ],
   "cell_type": "markdown",
   "metadata": {}
  },
  {
   "cell_type": "code",
   "execution_count": 58,
   "metadata": {},
   "outputs": [
    {
     "output_type": "execute_result",
     "data": {
      "text/plain": [
       "array([[ 0.        ,  1.51861254, -0.5622498 , ...,  0.36217728,\n",
       "         1.84791957,  1.01300893],\n",
       "       [ 0.        ,  0.24628963, -0.49941338, ...,  0.40605066,\n",
       "         1.1134493 ,  0.96524152],\n",
       "       [ 0.        ,  0.19687903,  0.02123125, ...,  0.31830389,\n",
       "         0.78858745,  1.39514818],\n",
       "       ...,\n",
       "       [ 0.        ,  0.33275817,  1.74474449, ..., -1.61212515,\n",
       "        -1.48544548,  0.28057537],\n",
       "       [ 0.        ,  0.20923168,  0.22769377, ..., -1.56825176,\n",
       "        -1.40069891,  0.29649784],\n",
       "       [ 0.        ,  1.39508604,  1.58316512, ..., -1.52437837,\n",
       "        -1.42894777, -0.59516041]])"
      ]
     },
     "metadata": {},
     "execution_count": 58
    }
   ],
   "source": [
    "sc = StandardScaler()\n",
    "xcolumns = sc.fit_transform(xcolumns)\n",
    "xcolumns"
   ]
  },
  {
   "cell_type": "code",
   "execution_count": 74,
   "metadata": {},
   "outputs": [],
   "source": [
    "xtrain, xtest, ytrain, ytest = train_test_split(xcolumns, ycolumn, test_size=0.2, random_state=433, shuffle=True)"
   ]
  },
  {
   "source": [
    "# Funciones"
   ],
   "cell_type": "markdown",
   "metadata": {}
  },
  {
   "cell_type": "code",
   "execution_count": 67,
   "metadata": {},
   "outputs": [],
   "source": [
    "def hypothesis(X, theta):\n",
    "    z = X.T @ theta\n",
    "    return 1/(1 + np.exp(-z))\n",
    "\n",
    "def cost_function(X, y, theta):\n",
    "    yh = hypothesis(X, theta)\n",
    "    return (-1/len(X)) * np.sum(y*np.log(yh) + (1-y)*np.log(1-yh))\n",
    "\n",
    "def gradient_descent_cost(X, y, theta, learning_rate=0.0001, max_iter = 1000):\n",
    "    m = len(X)\n",
    "    J = [cost_function(X, y, theta)]\n",
    "    for i in range(0, max_iter):\n",
    "        h = hypothesis(X, theta)\n",
    "        for i in range(0, X.shape[1]):\n",
    "            theta[i] -= (learning_rate/m) * np.sum((h-y)*X.iloc[:, i])\n",
    "        J.append(cost_function(X, y, theta))\n",
    "    return J, theta"
   ]
  },
  {
   "cell_type": "code",
   "execution_count": 71,
   "metadata": {},
   "outputs": [
    {
     "output_type": "stream",
     "name": "stderr",
     "text": [
      "<ipython-input-71-cddf2b6efa65>:2: FutureWarning: Support for multi-dimensional indexing (e.g. `obj[:, None]`) is deprecated and will be removed in a future version.  Convert to a numpy array before indexing instead.\n  ytrain = ytrain[:, np.newaxis]\n"
     ]
    }
   ],
   "source": [
    "m, n =  xtrain.shape\n",
    "ytrain = ytrain[:, np.newaxis]\n",
    "thetas = np.zeros((n,1))"
   ]
  },
  {
   "cell_type": "code",
   "execution_count": 73,
   "metadata": {},
   "outputs": [],
   "source": [
    "m, n =  xtrain.shape\n",
    "thetas = np.zeros((n,1))"
   ]
  },
  {
   "cell_type": "code",
   "execution_count": null,
   "metadata": {},
   "outputs": [],
   "source": []
  }
 ]
}