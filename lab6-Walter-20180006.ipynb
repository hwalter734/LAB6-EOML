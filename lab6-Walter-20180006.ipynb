{
 "cells": [
  {
   "cell_type": "markdown",
   "metadata": {},
   "source": [
    "# Cargamos archivos y librerías"
   ]
  },
  {
   "cell_type": "code",
   "execution_count": 2,
   "metadata": {},
   "outputs": [],
   "source": [
    "import pandas as pd \n",
    "import numpy as np\n",
    "import matplotlib.pyplot as plt\n",
    "from sklearn.preprocessing import StandardScaler\n",
    "from sklearn.model_selection import train_test_split\n",
    "pd.set_option('display.float_format', '{:.6f}'.format)"
   ]
  },
  {
   "cell_type": "code",
   "execution_count": 3,
   "metadata": {},
   "outputs": [
    {
     "data": {
      "text/html": [
       "<div>\n",
       "<style scoped>\n",
       "    .dataframe tbody tr th:only-of-type {\n",
       "        vertical-align: middle;\n",
       "    }\n",
       "\n",
       "    .dataframe tbody tr th {\n",
       "        vertical-align: top;\n",
       "    }\n",
       "\n",
       "    .dataframe thead th {\n",
       "        text-align: right;\n",
       "    }\n",
       "</style>\n",
       "<table border=\"1\" class=\"dataframe\">\n",
       "  <thead>\n",
       "    <tr style=\"text-align: right;\">\n",
       "      <th></th>\n",
       "      <th>ones</th>\n",
       "      <th>Label</th>\n",
       "      <th>Alcohol</th>\n",
       "      <th>Malic acid</th>\n",
       "      <th>Ash</th>\n",
       "      <th>Alcalinity of ash</th>\n",
       "      <th>Magnesium</th>\n",
       "      <th>Total phenols</th>\n",
       "      <th>Flavanoids</th>\n",
       "      <th>Nonflavanoid phenols</th>\n",
       "      <th>Proanthocyanins</th>\n",
       "      <th>Color intensity</th>\n",
       "      <th>Hue</th>\n",
       "      <th>OD280/OD315 of diluted wines</th>\n",
       "      <th>Proline</th>\n",
       "    </tr>\n",
       "  </thead>\n",
       "  <tbody>\n",
       "    <tr>\n",
       "      <th>0</th>\n",
       "      <td>1</td>\n",
       "      <td>1</td>\n",
       "      <td>14.230000</td>\n",
       "      <td>1.710000</td>\n",
       "      <td>2.430000</td>\n",
       "      <td>15.600000</td>\n",
       "      <td>127</td>\n",
       "      <td>2.800000</td>\n",
       "      <td>3.060000</td>\n",
       "      <td>0.280000</td>\n",
       "      <td>2.290000</td>\n",
       "      <td>5.640000</td>\n",
       "      <td>1.040000</td>\n",
       "      <td>3.920000</td>\n",
       "      <td>1065</td>\n",
       "    </tr>\n",
       "    <tr>\n",
       "      <th>1</th>\n",
       "      <td>1</td>\n",
       "      <td>1</td>\n",
       "      <td>13.200000</td>\n",
       "      <td>1.780000</td>\n",
       "      <td>2.140000</td>\n",
       "      <td>11.200000</td>\n",
       "      <td>100</td>\n",
       "      <td>2.650000</td>\n",
       "      <td>2.760000</td>\n",
       "      <td>0.260000</td>\n",
       "      <td>1.280000</td>\n",
       "      <td>4.380000</td>\n",
       "      <td>1.050000</td>\n",
       "      <td>3.400000</td>\n",
       "      <td>1050</td>\n",
       "    </tr>\n",
       "    <tr>\n",
       "      <th>2</th>\n",
       "      <td>1</td>\n",
       "      <td>1</td>\n",
       "      <td>13.160000</td>\n",
       "      <td>2.360000</td>\n",
       "      <td>2.670000</td>\n",
       "      <td>18.600000</td>\n",
       "      <td>101</td>\n",
       "      <td>2.800000</td>\n",
       "      <td>3.240000</td>\n",
       "      <td>0.300000</td>\n",
       "      <td>2.810000</td>\n",
       "      <td>5.680000</td>\n",
       "      <td>1.030000</td>\n",
       "      <td>3.170000</td>\n",
       "      <td>1185</td>\n",
       "    </tr>\n",
       "    <tr>\n",
       "      <th>3</th>\n",
       "      <td>1</td>\n",
       "      <td>1</td>\n",
       "      <td>14.370000</td>\n",
       "      <td>1.950000</td>\n",
       "      <td>2.500000</td>\n",
       "      <td>16.800000</td>\n",
       "      <td>113</td>\n",
       "      <td>3.850000</td>\n",
       "      <td>3.490000</td>\n",
       "      <td>0.240000</td>\n",
       "      <td>2.180000</td>\n",
       "      <td>7.800000</td>\n",
       "      <td>0.860000</td>\n",
       "      <td>3.450000</td>\n",
       "      <td>1480</td>\n",
       "    </tr>\n",
       "    <tr>\n",
       "      <th>4</th>\n",
       "      <td>1</td>\n",
       "      <td>1</td>\n",
       "      <td>13.240000</td>\n",
       "      <td>2.590000</td>\n",
       "      <td>2.870000</td>\n",
       "      <td>21.000000</td>\n",
       "      <td>118</td>\n",
       "      <td>2.800000</td>\n",
       "      <td>2.690000</td>\n",
       "      <td>0.390000</td>\n",
       "      <td>1.820000</td>\n",
       "      <td>4.320000</td>\n",
       "      <td>1.040000</td>\n",
       "      <td>2.930000</td>\n",
       "      <td>735</td>\n",
       "    </tr>\n",
       "  </tbody>\n",
       "</table>\n",
       "</div>"
      ],
      "text/plain": [
       "   ones  Label   Alcohol  Malic acid      Ash  Alcalinity of ash  Magnesium  \\\n",
       "0     1      1 14.230000    1.710000 2.430000          15.600000        127   \n",
       "1     1      1 13.200000    1.780000 2.140000          11.200000        100   \n",
       "2     1      1 13.160000    2.360000 2.670000          18.600000        101   \n",
       "3     1      1 14.370000    1.950000 2.500000          16.800000        113   \n",
       "4     1      1 13.240000    2.590000 2.870000          21.000000        118   \n",
       "\n",
       "   Total phenols  Flavanoids  Nonflavanoid phenols  Proanthocyanins  \\\n",
       "0       2.800000    3.060000              0.280000         2.290000   \n",
       "1       2.650000    2.760000              0.260000         1.280000   \n",
       "2       2.800000    3.240000              0.300000         2.810000   \n",
       "3       3.850000    3.490000              0.240000         2.180000   \n",
       "4       2.800000    2.690000              0.390000         1.820000   \n",
       "\n",
       "   Color intensity      Hue  OD280/OD315 of diluted wines  Proline  \n",
       "0         5.640000 1.040000                      3.920000     1065  \n",
       "1         4.380000 1.050000                      3.400000     1050  \n",
       "2         5.680000 1.030000                      3.170000     1185  \n",
       "3         7.800000 0.860000                      3.450000     1480  \n",
       "4         4.320000 1.040000                      2.930000      735  "
      ]
     },
     "execution_count": 3,
     "metadata": {},
     "output_type": "execute_result"
    }
   ],
   "source": [
    "df = pd.read_csv('wine.csv')\n",
    "df.insert(loc=1, column='ones', value=1) \n",
    "df = df.iloc[:,1:]\n",
    "df.head()"
   ]
  },
  {
   "cell_type": "code",
   "execution_count": 4,
   "metadata": {},
   "outputs": [
    {
     "data": {
      "text/plain": [
       "(178, 15)"
      ]
     },
     "execution_count": 4,
     "metadata": {},
     "output_type": "execute_result"
    }
   ],
   "source": [
    "df.shape"
   ]
  },
  {
   "cell_type": "markdown",
   "metadata": {},
   "source": [
    "# Partir el Array\n",
    "Partimos el array en un training, validating (CV), y testing set."
   ]
  },
  {
   "cell_type": "code",
   "execution_count": 5,
   "metadata": {},
   "outputs": [],
   "source": [
    "ycolumn = df.pop('Label')\n",
    "xcolumns = df"
   ]
  },
  {
   "cell_type": "markdown",
   "metadata": {},
   "source": [
    "# Clasificando a la categoría 1"
   ]
  },
  {
   "cell_type": "code",
   "execution_count": 6,
   "metadata": {},
   "outputs": [],
   "source": [
    "ycolumn_mod = np.array(ycolumn.replace({2:0, 3:0})).reshape(-1,1)"
   ]
  },
  {
   "cell_type": "code",
   "execution_count": 6,
   "metadata": {},
   "outputs": [],
   "source": [
    "ycolumn_mod = ycolumn.replace({1:0, 2:1, 3:0})"
   ]
  },
  {
   "cell_type": "code",
   "execution_count": 7,
   "metadata": {},
   "outputs": [],
   "source": [
    "ycolumn_mod = ycolumn.replace({1:0, 2:0, 3:1})"
   ]
  },
  {
   "cell_type": "markdown",
   "metadata": {},
   "source": [
    "# Standarize X Columns"
   ]
  },
  {
   "cell_type": "code",
   "execution_count": 7,
   "metadata": {},
   "outputs": [
    {
     "data": {
      "text/plain": [
       "array([[ 0.        ,  1.51861254, -0.5622498 , ...,  0.36217728,\n",
       "         1.84791957,  1.01300893],\n",
       "       [ 0.        ,  0.24628963, -0.49941338, ...,  0.40605066,\n",
       "         1.1134493 ,  0.96524152],\n",
       "       [ 0.        ,  0.19687903,  0.02123125, ...,  0.31830389,\n",
       "         0.78858745,  1.39514818],\n",
       "       ...,\n",
       "       [ 0.        ,  0.33275817,  1.74474449, ..., -1.61212515,\n",
       "        -1.48544548,  0.28057537],\n",
       "       [ 0.        ,  0.20923168,  0.22769377, ..., -1.56825176,\n",
       "        -1.40069891,  0.29649784],\n",
       "       [ 0.        ,  1.39508604,  1.58316512, ..., -1.52437837,\n",
       "        -1.42894777, -0.59516041]])"
      ]
     },
     "execution_count": 7,
     "metadata": {},
     "output_type": "execute_result"
    }
   ],
   "source": [
    "sc = StandardScaler()\n",
    "xtransformed = sc.fit_transform(xcolumns)\n",
    "xtransformed"
   ]
  },
  {
   "cell_type": "code",
   "execution_count": 8,
   "metadata": {},
   "outputs": [],
   "source": [
    "xtrain, xtest, ytrain, ytest = train_test_split(xtransformed, ycolumn_mod, test_size=0.2, random_state=433, shuffle=True)"
   ]
  },
  {
   "cell_type": "markdown",
   "metadata": {},
   "source": [
    "# Funciones"
   ]
  },
  {
   "cell_type": "code",
   "execution_count": 75,
   "metadata": {},
   "outputs": [],
   "source": [
    "def hypothesis(X, theta):\n",
    "    z = X @ theta.T\n",
    "    return 1/(1 + np.exp(-z))\n",
    "\n",
    "def cost_function(X, y, theta):\n",
    "    yh = hypothesis(X, theta)\n",
    "    return (-1/len(X)) * np.sum(y*np.log(yh) + (1-y)*np.log(1-yh))\n",
    "\n",
    "def gradient_descent(X, y, theta, learning_rate, max_iter = 2000):\n",
    "    m = len(X)\n",
    "    J = [cost_function(X, y, theta)]\n",
    "    for i in range(0, max_iter):\n",
    "        h = hypothesis(X, theta)\n",
    "        for i in range(0, X.shape[1]):\n",
    "            theta -= (learning_rate/m) * np.sum((h-y)*X[:, i])\n",
    "        J.append(cost_function(X, y, theta))\n",
    "    return J, theta\n",
    "\n",
    "def predict(X, y, theta, learning_rate=0.00001, max_iter = 2000):\n",
    "    J, th = gradient_descent(X, y, theta, learning_rate, max_iter) \n",
    "    yh = hypothesis(X, theta)\n",
    "    for i in range(len(yh)):\n",
    "        yh[i]=1 if yh[i]>=0.5 else 0\n",
    "    y = list(y)\n",
    "    acc = np.sum([y[i] == yh[i] for i in range(len(y))])/len(y)\n",
    "    return J, acc, th\n",
    "\n",
    "def valor_h(x_train, x_test, theta):    \n",
    "    h_train = hypothesis(x_train, theta).mean()\n",
    "    h_test = hypothesis(x_test, theta).mean()\n",
    "    avg_h = (h_train + h_test) / 2\n",
    "    return avg_h\n",
    "\n",
    "def elegir_grado(x_arr, grado):\n",
    "    if grado == 2:\n",
    "        x_mod = x_arr ** 2\n",
    "        x_arr_new = np.append(x_arr, x_mod, axis=1)\n",
    "    elif grado == 3:\n",
    "        x_mod = x_arr ** 3\n",
    "        x_arr_new = np.append(x_arr, x_mod, axis=1)\n",
    "\n",
    "    return x_arr_new"
   ]
  },
  {
   "cell_type": "code",
   "execution_count": 61,
   "metadata": {},
   "outputs": [],
   "source": [
    "m, n =  xtrain.shape\n",
    "theta = np.full((1,n), 0.5)"
   ]
  },
  {
   "cell_type": "code",
   "execution_count": 68,
   "metadata": {},
   "outputs": [],
   "source": [
    "J, acc, arr_theta = predict(xtrain, ytrain, theta, learning_rate=0.0001)"
   ]
  },
  {
   "cell_type": "code",
   "execution_count": 76,
   "metadata": {},
   "outputs": [
    {
     "data": {
      "text/plain": [
       "0.5454114923601321"
      ]
     },
     "execution_count": 76,
     "metadata": {},
     "output_type": "execute_result"
    }
   ],
   "source": [
    "valor_h(xtrain, xtest, arr_theta)"
   ]
  },
  {
   "cell_type": "code",
   "execution_count": 14,
   "metadata": {},
   "outputs": [
    {
     "data": {
      "image/png": "[encoded data removed]",
      "text/plain": [
       "<Figure size 864x576 with 1 Axes>"
      ]
     },
     "metadata": {
      "needs_background": "light"
     },
     "output_type": "display_data"
    }
   ],
   "source": [
    "plt.figure(figsize = (12, 8))\n",
    "plt.scatter(range(0, len(J)), J)\n",
    "plt.show()"
   ]
  },
  {
   "cell_type": "markdown",
   "metadata": {},
   "source": [
    "### Con grado 2"
   ]
  },
  {
   "cell_type": "code",
   "execution_count": 80,
   "metadata": {},
   "outputs": [],
   "source": [
    "xtrain2 = elegir_grado(xtrain, 2)\n",
    "xtest2 = elegir_grado(xtest, 2)\n",
    "m, n =  xtrain2.shape\n",
    "theta = np.full((1,n), 0.5)"
   ]
  },
  {
   "cell_type": "code",
   "execution_count": 78,
   "metadata": {},
   "outputs": [],
   "source": [
    "J, acc, arr_theta = predict(xtrain2, ytrain, theta, learning_rate=0.000001)"
   ]
  },
  {
   "cell_type": "code",
   "execution_count": 81,
   "metadata": {},
   "outputs": [
    {
     "data": {
      "text/plain": [
       "0.3457789671393481"
      ]
     },
     "execution_count": 81,
     "metadata": {},
     "output_type": "execute_result"
    }
   ],
   "source": [
    "valor_h(xtrain2, xtest2, arr_theta)"
   ]
  },
  {
   "cell_type": "code",
   "execution_count": 79,
   "metadata": {},
   "outputs": [
    {
     "data": {
      "image/png": "[encoded data removed]",
      "text/plain": [
       "<Figure size 864x576 with 1 Axes>"
      ]
     },
     "metadata": {
      "needs_background": "light"
     },
     "output_type": "display_data"
    }
   ],
   "source": [
    "plt.figure(figsize = (12, 8))\n",
    "plt.scatter(range(0, len(J)), J)\n",
    "plt.show()"
   ]
  },
  {
   "cell_type": "code",
   "execution_count": 82,
   "metadata": {},
   "outputs": [],
   "source": [
    "xtrain3 = elegir_grado(xtrain, 3)\n",
    "xtest3 = elegir_grado(xtest, 3)\n",
    "m, n =  xtrain3.shape\n",
    "theta = np.full((1,n), 0.5)"
   ]
  },
  {
   "cell_type": "code",
   "execution_count": 83,
   "metadata": {},
   "outputs": [
    {
     "name": "stderr",
     "output_type": "stream",
     "text": [
      "<ipython-input-75-5e909978a732>:7: RuntimeWarning: divide by zero encountered in log\n",
      "  return (-1/len(X)) * np.sum(y*np.log(yh) + (1-y)*np.log(1-yh))\n"
     ]
    }
   ],
   "source": [
    "J, acc, arr_theta = predict(xtrain3, ytrain, theta, learning_rate=0.000001)"
   ]
  },
  {
   "cell_type": "code",
   "execution_count": 84,
   "metadata": {},
   "outputs": [
    {
     "data": {
      "text/plain": [
       "0.5323429124793102"
      ]
     },
     "execution_count": 84,
     "metadata": {},
     "output_type": "execute_result"
    }
   ],
   "source": [
    "valor_h(xtrain3, xtest3, arr_theta)"
   ]
  },
  {
   "cell_type": "code",
   "execution_count": 85,
   "metadata": {},
   "outputs": [
    {
     "data": {
      "image/png": "[encoded data removed]",
      "text/plain": [
       "<Figure size 864x576 with 1 Axes>"
      ]
     },
     "metadata": {
      "needs_background": "light"
     },
     "output_type": "display_data"
    }
   ],
   "source": [
    "plt.figure(figsize = (12, 8))\n",
    "plt.scatter(range(0, len(J)), J)\n",
    "plt.show()"
   ]
  },
  {
   "cell_type": "code",
   "execution_count": null,
   "metadata": {},
   "outputs": [],
   "source": []
  },
  {
   "cell_type": "code",
   "execution_count": null,
   "metadata": {},
   "outputs": [],
   "source": []
  },
  {
   "cell_type": "code",
   "execution_count": null,
   "metadata": {},
   "outputs": [],
   "source": []
  },
  {
   "cell_type": "code",
   "execution_count": null,
   "metadata": {},
   "outputs": [],
   "source": []
  },
  {
   "cell_type": "code",
   "execution_count": null,
   "metadata": {},
   "outputs": [],
   "source": []
  },
  {
   "cell_type": "code",
   "execution_count": null,
   "metadata": {},
   "outputs": [],
   "source": []
  },
  {
   "cell_type": "code",
   "execution_count": null,
   "metadata": {},
   "outputs": [],
   "source": []
  },
  {
   "cell_type": "code",
   "execution_count": null,
   "metadata": {},
   "outputs": [],
   "source": []
  },
  {
   "cell_type": "code",
   "execution_count": null,
   "metadata": {},
   "outputs": [],
   "source": []
  },
  {
   "cell_type": "code",
   "execution_count": null,
   "metadata": {},
   "outputs": [],
   "source": []
  }
 ],
 "metadata": {
  "kernelspec": {
   "display_name": "elements_venv",
   "language": "python",
   "name": "elements_venv"
  },
  "language_info": {
   "codemirror_mode": {
    "name": "ipython",
    "version": 3
   },
   "file_extension": ".py",
   "mimetype": "text/x-python",
   "name": "python",
   "nbconvert_exporter": "python",
   "pygments_lexer": "ipython3",
   "version": "3.8.6"
  }
 },
 "nbformat": 4,
 "nbformat_minor": 4
}
